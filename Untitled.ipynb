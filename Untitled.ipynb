{
 "cells": [
  {
   "cell_type": "code",
   "execution_count": null,
   "id": "2a30e614-de25-4d1f-bf2f-42399d09629c",
   "metadata": {},
   "outputs": [],
   "source": [
    "import time\n",
    "\n",
    "import matplotlib.pyplot as plt\n",
    "\n",
    "%matplotlib inline\n",
    "import matplotlib_inline.backend_inline\n",
    "import numpy as np\n",
    "import torch\n",
    "import torch.nn as nn\n",
    "import torch.utils.data as data\n",
    "from matplotlib.colors import to_rgba\n",
    "from torch import Tensor\n",
    "from tqdm.notebook import tqdm  # Progress bar\n",
    "\n",
    "matplotlib_inline.backend_inline.set_matplotlib_formats(\"svg\", \"pdf\")  # For export"
   ]
  },
  {
   "cell_type": "code",
   "execution_count": null,
   "id": "f93cd82a-eba3-486a-8f67-7c117f5b2eb0",
   "metadata": {},
   "outputs": [],
   "source": [
    "device = torch.device(\"cuda\") if torch.cuda.is_available() else torch.device(\"cpu\")"
   ]
  },
  {
   "cell_type": "code",
   "execution_count": null,
   "id": "db549367-4e47-4df2-ae8b-dd2201caec37",
   "metadata": {},
   "outputs": [],
   "source": [
    "torch.manual_seed(42)\n",
    "# GPU operations have a separate seed we also want to set\n",
    "if torch.cuda.is_available():\n",
    "    torch.cuda.manual_seed(42)\n",
    "    torch.cuda.manual_seed_all(42)\n",
    "\n",
    "# Additionally, some operations on a GPU are implemented stochastic for efficiency\n",
    "# We want to ensure that all operations are deterministic on GPU (if used) for reproducibility\n",
    "torch.backends.cudnn.deterministic = True\n",
    "torch.backends.cudnn.benchmark = False"
   ]
  },
  {
   "cell_type": "code",
   "execution_count": null,
   "id": "997e7885-7087-4663-80b9-8a7f536e263d",
   "metadata": {},
   "outputs": [],
   "source": [
    "class MyClassifier(nn.Module):\n",
    "\n",
    "    def __init__(self):\n",
    "        super().__init__()\n",
    "        self.linear1 = nn.Linear(2, 4)\n",
    "        self.activation = nn.Tanh()\n",
    "        self.linear2 = nn.Linear(4, 1)\n",
    "\n",
    "    def forward(self, x):\n",
    "        return self.linear2(self.activation(self.linear1(x)))"
   ]
  },
  {
   "cell_type": "code",
   "execution_count": null,
   "id": "f7511470-18f8-4720-94f3-184ddccfea6e",
   "metadata": {},
   "outputs": [],
   "source": [
    "my_classifier = MyClassifier()"
   ]
  },
  {
   "cell_type": "code",
   "execution_count": null,
   "id": "31a956c4-83c1-48da-bebd-f1ee434386d3",
   "metadata": {},
   "outputs": [],
   "source": [
    "my_classifier"
   ]
  },
  {
   "cell_type": "code",
   "execution_count": null,
   "id": "71e824ca-3e68-4bb2-89f3-1a6978851eb0",
   "metadata": {},
   "outputs": [],
   "source": [
    "print(list(my_classifier.named_parameters()))"
   ]
  },
  {
   "cell_type": "code",
   "execution_count": null,
   "id": "61e0db29-3d85-4a41-9ed3-592c85626b8d",
   "metadata": {},
   "outputs": [],
   "source": [
    "class MyDataset(data.Dataset):\n",
    "    def __init__(self):\n",
    "        self.size = 200\n",
    "        data = torch.randint(0, 2, size=(self.size, 2), dtype=torch.float32)\n",
    "        label = (data.sum(dim=1) == 1).to(torch.long)\n",
    "        data += 0.1 * torch.randn(data.shape)\n",
    "        self.data = data\n",
    "        self.label = label\n",
    "    def __len__(self):\n",
    "        return self.size\n",
    "    def __getitem__(self, index):\n",
    "        return self.data[index], self.label[index]"
   ]
  },
  {
   "cell_type": "code",
   "execution_count": null,
   "id": "8a798f71-3384-4516-afcf-da941f1f8cb5",
   "metadata": {},
   "outputs": [],
   "source": [
    "my_dataset = MyDataset()"
   ]
  },
  {
   "cell_type": "code",
   "execution_count": null,
   "id": "7cefcb25-c8ce-47cb-96a1-c6c8d10573be",
   "metadata": {},
   "outputs": [],
   "source": [
    "def visualize_samples(data, label):\n",
    "    if isinstance(data, Tensor):\n",
    "        data = data.cpu().numpy()\n",
    "    if isinstance(label, Tensor):\n",
    "        label = label.cpu().numpy()\n",
    "    data_0 = data[label == 0]\n",
    "    data_1 = data[label == 1]\n",
    "\n",
    "    plt.figure(figsize=(4, 4))\n",
    "    plt.scatter(data_0[:, 0], data_0[:, 1], edgecolor=\"#333\", label=\"Class 0\")\n",
    "    plt.scatter(data_1[:, 0], data_1[:, 1], edgecolor=\"#333\", label=\"Class 1\")\n",
    "    plt.title(\"Dataset samples\")\n",
    "    plt.ylabel(r\"$x_2$\")\n",
    "    plt.xlabel(r\"$x_1$\")\n",
    "    plt.legend()"
   ]
  },
  {
   "cell_type": "code",
   "execution_count": null,
   "id": "fc43aa3e-3c27-475b-93d2-3e1c91b4ac8a",
   "metadata": {},
   "outputs": [],
   "source": [
    "visualize_samples(my_dataset.data, my_dataset.label)"
   ]
  },
  {
   "cell_type": "code",
   "execution_count": null,
   "id": "8d58171a-e29a-4f45-a691-a9da55c10ef6",
   "metadata": {},
   "outputs": [],
   "source": [
    "data_loader = data.DataLoader(my_dataset, batch_size=8, shuffle=True)"
   ]
  },
  {
   "cell_type": "code",
   "execution_count": null,
   "id": "8c3f3a6c-76cc-428b-8196-4d0ef9fd1313",
   "metadata": {},
   "outputs": [],
   "source": [
    "list(iter(data_loader))"
   ]
  },
  {
   "cell_type": "code",
   "execution_count": null,
   "id": "7ec241d4-5725-42d9-8921-6f93970a94b3",
   "metadata": {},
   "outputs": [],
   "source": [
    "len(list(iter(data_loader)))"
   ]
  },
  {
   "cell_type": "code",
   "execution_count": null,
   "id": "347459bb-81c8-4928-ba70-2136f5254cbe",
   "metadata": {},
   "outputs": [],
   "source": [
    "loss_function = nn.BCEWithLogitsLoss()"
   ]
  },
  {
   "cell_type": "code",
   "execution_count": null,
   "id": "d23da249-05bc-4333-8d2a-90bce24d4198",
   "metadata": {},
   "outputs": [],
   "source": [
    "optimizer = torch.optim.SGD(my_classifier.parameters(), lr=0.1)"
   ]
  },
  {
   "cell_type": "code",
   "execution_count": null,
   "id": "2f345494-e39a-4ddb-97d7-416273425b4f",
   "metadata": {},
   "outputs": [],
   "source": [
    "my_classifier.to(device)"
   ]
  },
  {
   "cell_type": "code",
   "execution_count": null,
   "id": "cc849297-c83f-4c7b-9efc-b90800f49157",
   "metadata": {},
   "outputs": [],
   "source": [
    "my_classifier.train()\n",
    "num_epochs = 100\n",
    "for epoch in tqdm(range(num_epochs)):\n",
    "    for data_inputs, data_labels in data_loader:\n",
    "        data_inputs = data_inputs.to(device)\n",
    "        data_labels = data_labels.to(device)\n",
    "\n",
    "        preds = my_classifier(data_inputs).squeeze(dim=1)\n",
    "        loss = loss_function(preds, data_labels.float())\n",
    "\n",
    "        optimizer.zero_grad()\n",
    "        loss.backward()\n",
    "        optimizer.step()"
   ]
  },
  {
   "cell_type": "code",
   "execution_count": null,
   "id": "4f84f5fa-fb60-4eb6-9fd9-12647dac474b",
   "metadata": {},
   "outputs": [],
   "source": [
    "for data_inputs, data_labels in data_loader:\n",
    "    data_inputs = data_inputs.to(device)\n",
    "    data_labels = data_labels.to(device)\n",
    "\n",
    "    preds = my_classifier(data_inputs).squeeze(dim=1)\n",
    "    loss = loss_function(preds, data_labels.float())\n",
    "\n",
    "    optimizer.zero_grad()\n",
    "    loss.backward()\n",
    "    optimizer.step()"
   ]
  },
  {
   "cell_type": "code",
   "execution_count": null,
   "id": "00e9c1cb-95f9-4e74-a839-bdcd52ead2b8",
   "metadata": {},
   "outputs": [],
   "source": [
    "my_classifier.state_dict()"
   ]
  },
  {
   "cell_type": "code",
   "execution_count": null,
   "id": "afb0dcc4-2f98-416f-b81d-f4d984870fee",
   "metadata": {},
   "outputs": [],
   "source": [
    "test_dataset = MyDataset()"
   ]
  },
  {
   "cell_type": "code",
   "execution_count": null,
   "id": "1ba1cf2a-a47a-4697-81cb-fdb9900d87d6",
   "metadata": {},
   "outputs": [],
   "source": [
    "my_classifier.eval()\n",
    "true_preds, num_preds = 0.0, 0.0\n",
    "with torch.no_grad():\n",
    "    for data_inputs, data_labels in data_loader:\n",
    "        data_inputs, data_labels = data_inputs.to(device), data_labels.to(device)\n",
    "        preds = my_classifier(data_inputs).squeeze(dim=1)\n",
    "        preds = torch.sigmoid(preds)\n",
    "        pred_labels = (preds > 0.5).long()\n",
    "        true_preds += (pred_labels == data_labels).sum()\n",
    "        num_preds += data_labels.shape[0]\n",
    "acc = true_preds / num_preds\n",
    "print(f\"Accuracy of the model: {100.0*acc:4.2f}%\")"
   ]
  },
  {
   "cell_type": "code",
   "execution_count": null,
   "id": "ea2b371f-e5ab-46fe-864d-e25b833caaa6",
   "metadata": {},
   "outputs": [],
   "source": [
    "@torch.no_grad()  # Decorator, same effect as \"with torch.no_grad(): ...\" over the whole function.\n",
    "def visualize_classification(model, data, label):\n",
    "    if isinstance(data, Tensor):\n",
    "        data = data.cpu().numpy()\n",
    "    if isinstance(label, Tensor):\n",
    "        label = label.cpu().numpy()\n",
    "    data_0 = data[label == 0]\n",
    "    data_1 = data[label == 1]\n",
    "\n",
    "    plt.figure(figsize=(4, 4))\n",
    "    plt.scatter(data_0[:, 0], data_0[:, 1], edgecolor=\"#333\", label=\"Class 0\")\n",
    "    plt.scatter(data_1[:, 0], data_1[:, 1], edgecolor=\"#333\", label=\"Class 1\")\n",
    "    plt.title(\"Dataset samples\")\n",
    "    plt.ylabel(r\"$x_2$\")\n",
    "    plt.xlabel(r\"$x_1$\")\n",
    "    plt.legend()\n",
    "\n",
    "    # Let's make use of a lot of operations we have learned above\n",
    "    model.to(device)\n",
    "    c0 = Tensor(to_rgba(\"C0\")).to(device)\n",
    "    c1 = Tensor(to_rgba(\"C1\")).to(device)\n",
    "    x1 = torch.arrange(-0.5, 1.5, step=0.01, device=device)\n",
    "    x2 = torch.arrange(-0.5, 1.5, step=0.01, device=device)\n",
    "    xx1, xx2 = torch.meshgrid(x1, x2)  # Meshgrid function as in numpy\n",
    "    model_inputs = torch.stack([xx1, xx2], dim=-1)\n",
    "    preds = model(model_inputs)\n",
    "    preds = torch.sigmoid(preds)\n",
    "    # Specifying \"None\" in a dimension creates a new one\n",
    "    output_image = (1 - preds) * c0[None, None] + preds * c1[None, None]\n",
    "    output_image = (\n",
    "        output_image.cpu().numpy()\n",
    "    )  # Convert to numpy array. This only works for tensors on CPU, hence first push to CPU\n",
    "    plt.imshow(output_image, origin=\"lower\", extent=(-0.5, 1.5, -0.5, 1.5))\n",
    "    plt.grid(False)\n",
    "\n",
    "\n",
    "visualize_classification(my_classifier, my_dataset.data, my_dataset.label)\n",
    "plt.show()"
   ]
  },
  {
   "cell_type": "code",
   "execution_count": null,
   "id": "135aae25-618c-4a6f-b791-19d83ef0fba0",
   "metadata": {},
   "outputs": [],
   "source": []
  }
 ],
 "metadata": {
  "kernelspec": {
   "display_name": "python3",
   "language": "python",
   "name": "python3"
  }
 },
 "nbformat": 4,
 "nbformat_minor": 5
}
